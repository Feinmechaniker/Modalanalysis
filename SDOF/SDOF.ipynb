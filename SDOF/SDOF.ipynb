{
 "cells": [
  {
   "cell_type": "markdown",
   "id": "fe06fe2d-b2d8-48f1-986e-5d3deaba642e",
   "metadata": {},
   "source": [
    "# Experimentelle Modalanalyse (EMA) | Prof. J. Grabow\n",
    "## SDOF (Systeme mit einem Freiheitsgrad von f=1)\n",
    "Einfache Feder-Masse-Dämpfer-Modelle bilden die Basis der Schwingungsanalyse. Modelle mit einem Freiheitsgrad werden auch SDOF-Modelle bezeichnet (single degree of freedom). Bei diesen Modellen wirken auf die konzentrierte Masse neben möglichen Erregerkräften Federkräfte und Dämpferkräfte. Die Federkräfte werden über das Hooksche Gesetz beschrieben und die Dämpferkräfte ergeben sich aus einer viskosen Reibung. \n",
    "\n",
    "$m \\ddot{q} + k\\dot{q} + cq = 0$\n"
   ]
  },
  {
   "cell_type": "code",
   "execution_count": 59,
   "id": "3ee0c0e8-5e12-46ab-bdfc-dfd2f2a7bff4",
   "metadata": {},
   "outputs": [],
   "source": [
    "# -*- coding: utf-8 -*-\n",
    "\"\"\"\n",
    "Created on Tue Oct 17 14:09:25 2023\n",
    "\n",
    "Program history\n",
    "17.10.2023    V. 1.0    Start\n",
    "23.10.2023    V. 1.1    Frequenzgang\n",
    "13.11.2023    V. 1.3    Sprungantwort\n",
    "\n",
    "@author: Prof. Jörg Grabow (grabow@amesys.de)\n",
    "\"\"\"\n",
    "__version__ = '1.3'\n",
    "__author__ = 'Joe Grabow'\n",
    "\n",
    "import numpy as np\n",
    "import matplotlib.pyplot as plt\n",
    "from matplotlib.patches import Circle\n",
    "from tabulate import tabulate"
   ]
  },
  {
   "cell_type": "markdown",
   "id": "708949c2-7cae-4e94-9b15-0e4e5681c975",
   "metadata": {},
   "source": [
    "### Eingabe der Strukturparameter Masse, Dämpfung und Federsteifigkeit des Systems."
   ]
  },
  {
   "cell_type": "code",
   "execution_count": 60,
   "id": "f179e872-3910-460b-8d97-be7c47584ef1",
   "metadata": {},
   "outputs": [],
   "source": [
    "# Masse in kg\n",
    "m_1 = 2\n",
    "\n",
    "# Dämpfung in Ns/m\n",
    "k_1 = 20\n",
    "\n",
    "# Steifigkeit in N/m\n",
    "c_1 = 2500\n",
    "\n",
    "# Anfangsbedingungen\n",
    "q_0 = 10e-3         # in m\n",
    "v_0 = 1             # in m/s"
   ]
  },
  {
   "cell_type": "markdown",
   "id": "8596e025-63db-42f2-8ffb-ef097f6cad72",
   "metadata": {},
   "source": [
    "### Anfangsbedingungen"
   ]
  },
  {
   "cell_type": "code",
   "execution_count": 61,
   "id": "545884e6-614c-4b34-92e2-1f31b8ea864b",
   "metadata": {},
   "outputs": [],
   "source": [
    "# Anfangsbedingungen\n",
    "q_0 = 10e-3         # in m\n",
    "v_0 = 1             # in m/s"
   ]
  },
  {
   "cell_type": "markdown",
   "id": "3921480e-b970-4d1d-8f40-1a5e3e7377bc",
   "metadata": {},
   "source": [
    "### Berechnungen und Lösung der Dgl. im Zeitbereich"
   ]
  },
  {
   "cell_type": "code",
   "execution_count": 62,
   "id": "90e69d92-c3d2-4c01-bbf7-608e5c16dc98",
   "metadata": {},
   "outputs": [],
   "source": [
    "# Eigenkreisfrequenz ungedämpft in 1/s\n",
    "w_0 = np.sqrt(c_1/m_1)\n",
    "\n",
    "# Lehrsches Dämpfungsmaß\n",
    "D = k_1 / (2 * m_1 * w_0)\n",
    "\n",
    "# Abklingkonstante in 1/s\n",
    "delta = k_1 / (2 * m_1)\n",
    "\n",
    "# Eigenkreisfrequenz gedämpft \n",
    "w = w_0 * np.sqrt(1 - D**2)\n",
    "\n",
    "# Eigenwerte\n",
    "lambda_1 = - delta + 1j*w\n",
    "lambda_conjugate = np.conj(lambda_1)\n",
    "\n",
    "# Konstanten C1 und C2\n",
    "C_1 = q_0\n",
    "C_2 = (v_0 + delta * q_0) / w\n",
    "\n",
    "# Amplitude\n",
    "A = np.sqrt(C_1**2 + C_2**2)\n",
    "\n",
    "# Phasenwinkel in Bogenmaß\n",
    "phi = np.arctan2(C_1, C_2)\n",
    "\n",
    "# Phasenwinkel in Grad\n",
    "phi_degrees = np.degrees(phi)\n",
    "\n",
    "# Eigenvektoren\n",
    "psi = 0.5 * (C_1 - 1j*C_2)\n",
    "psi_conjugate = np.conj(psi)\n",
    "\n",
    "# Residuum\n",
    "res = 0 - 1j / (2 * w * m_1)\n",
    "res_conjugate = np.conj(res)"
   ]
  },
  {
   "cell_type": "markdown",
   "id": "0a6bed2f-0dee-485b-8415-455711a97c8c",
   "metadata": {},
   "source": [
    "### Berechnete Kennwerte "
   ]
  },
  {
   "cell_type": "code",
   "execution_count": 63,
   "id": "74818352-aa9d-4896-a807-9d20ad76bd61",
   "metadata": {},
   "outputs": [
    {
     "name": "stdout",
     "output_type": "stream",
     "text": [
      "╒════════════════════════════════════╤═══════════╤═════════╤════════════╕\n",
      "│ Parameter                          │ Einheit   │    real │   imaginär │\n",
      "╞════════════════════════════════════╪═══════════╪═════════╪════════════╡\n",
      "│ Eigenkreisfrequenz ω₀ (ungedämpft) │ 1/s       │ 35.3553 │     0      │\n",
      "├────────────────────────────────────┼───────────┼─────────┼────────────┤\n",
      "│ Lehrsches Dämpfungsmaß D           │ -         │  0.1414 │     0      │\n",
      "├────────────────────────────────────┼───────────┼─────────┼────────────┤\n",
      "│ Abklingkonstante δ                 │ 1/s       │  5      │     0      │\n",
      "├────────────────────────────────────┼───────────┼─────────┼────────────┤\n",
      "│ Eigenkreisfrequenz ω (gedämpft)    │ 1/s       │ 35      │     0      │\n",
      "├────────────────────────────────────┼───────────┼─────────┼────────────┤\n",
      "│ Eigenwert λ                        │ 1/s       │ -5      │    35      │\n",
      "├────────────────────────────────────┼───────────┼─────────┼────────────┤\n",
      "│ Eigenwert ̅λ                        │ 1/s       │ -5      │   -35      │\n",
      "├────────────────────────────────────┼───────────┼─────────┼────────────┤\n",
      "│ Konstante C1                       │ m         │  0.01   │     0      │\n",
      "├────────────────────────────────────┼───────────┼─────────┼────────────┤\n",
      "│ Konstante C2                       │ m         │  0.03   │     0      │\n",
      "├────────────────────────────────────┼───────────┼─────────┼────────────┤\n",
      "│ Amplitude A                        │ m         │  0.0316 │     0      │\n",
      "├────────────────────────────────────┼───────────┼─────────┼────────────┤\n",
      "│ Phasenwinkel ϕ                     │ Grad      │ 18.4349 │     0      │\n",
      "├────────────────────────────────────┼───────────┼─────────┼────────────┤\n",
      "│ Eigenwert ψ                        │ m         │  0.005  │    -0.015  │\n",
      "├────────────────────────────────────┼───────────┼─────────┼────────────┤\n",
      "│ Eigenwert ̅ψ                        │ m         │  0.005  │     0.015  │\n",
      "├────────────────────────────────────┼───────────┼─────────┼────────────┤\n",
      "│ Residuum R                         │ s/kg      │  0      │    -0.0071 │\n",
      "├────────────────────────────────────┼───────────┼─────────┼────────────┤\n",
      "│ Residuum R̅                         │ s/kg      │  0      │     0.0071 │\n",
      "╘════════════════════════════════════╧═══════════╧═════════╧════════════╛\n"
     ]
    }
   ],
   "source": [
    "# Datenfeld zur Ausgabe\n",
    "data = [\n",
    "    (\"Eigenkreisfrequenz \" + \"\\u03c9\\u2080\" + \" (ungedämpft)\", \"1/s\", w_0, 0),\n",
    "    (\"Lehrsches Dämpfungsmaß D\", \" - \", D, 0),\n",
    "    (\"Abklingkonstante \" + \"\\u03b4\", \"1/s\", delta, 0),\n",
    "    (\"Eigenkreisfrequenz \" + \"\\u03c9\" + \" (gedämpft)\", \"1/s\", w, 0),\n",
    "    (\"Eigenwert \" + \"\\u03bb\", \"1/s\", np.real(lambda_1), np.imag(lambda_1)),\n",
    "    (\"Eigenwert \" + \"\\u0305\\u03bb\", \"1/s\", np.real(lambda_conjugate), np.imag(lambda_conjugate)),\n",
    "    (\"Konstante C1\", \"m\", C_1, 0),\n",
    "    (\"Konstante C2\", \"m\", C_2, 0),\n",
    "    (\"Amplitude A\", \"m\", A, 0),\n",
    "    (\"Phasenwinkel \" +\"\\u03d5\", \"Grad\", phi_degrees, 0),\n",
    "    (\"Eigenwert \" + \"\\u03c8\", \"m\", np.real(psi), np.imag(psi)),\n",
    "    (\"Eigenwert \" + \"\\u0305\\u03c8\", \"m\", np.real(psi_conjugate), np.imag(psi_conjugate)),\n",
    "    (\"Residuum R\", \"m/Ns\", 0, np.imag(res)),\n",
    "    (\"Residuum \" + \"R\\u0305\", \"m/Ns\", 0, np.imag(res_conjugate))\n",
    "]\n",
    "\n",
    "# Spaltenüberschriften\n",
    "headers = [\"Parameter\", \"Einheit\", \"real\", \"imaginär\"]\n",
    "\n",
    "# Funktion zur Formatierung der Vor- und Nachkommastellen\n",
    "def custom_format(value):\n",
    "    return f\"{value:.4f}\"\n",
    "\n",
    "# Daten formatieren\n",
    "formatted_data = [(Parameter, Einheit, custom_format(real), custom_format(imaginär)) for Parameter, Einheit, real, imaginär in data]\n",
    "\n",
    "# Tabellenausgabe\n",
    "print(tabulate(formatted_data, headers, tablefmt=\"fancy_grid\"))"
   ]
  },
  {
   "cell_type": "markdown",
   "id": "db316d67-553f-443b-b1af-e26181995ef8",
   "metadata": {},
   "source": [
    "### Darstellung der komplexen Eigenwerte\n"
   ]
  },
  {
   "cell_type": "code",
   "execution_count": 64,
   "id": "f3a2e812-96ce-428e-b15a-40d952d0a8cb",
   "metadata": {},
   "outputs": [],
   "source": [
    "# Komplexe Vektoren\n",
    "vector1 = lambda_1\n",
    "vector2 = lambda_conjugate\n",
    "\n",
    "# Extrahiere Real- und Imaginärteile\n",
    "real1, imag1 = vector1.real, vector1.imag\n",
    "real2, imag2 = vector2.real, vector2.imag\n",
    "\n",
    "# Erstelle das Diagramm\n",
    "plt.figure(figsize=(5, 5))\n",
    "plt.quiver(0, 0, real1, imag1, angles='xy', scale_units='xy', scale=1, color='cornflowerblue', label='\\u03bb')\n",
    "plt.quiver(0, 0, real2, imag2, angles='xy', scale_units='xy', scale=1, color='orange', label='\\u0305\\u03bb')\n",
    "\n",
    "# Bestimme die maximale Dimension für die Achsen\n",
    "max_dimension = max(max(abs(real1), abs(real2)), max(abs(imag1), abs(imag2)))\n",
    "\n",
    "# Setze die Achsenbegrenzungen\n",
    "plt.xlim(-max_dimension - 1, max_dimension + 1)\n",
    "plt.ylim(-max_dimension - 1, max_dimension + 1)\n",
    "\n",
    "# Achsenbeschriftungen\n",
    "plt.axhline(0, color='black',linewidth=0.5)\n",
    "plt.axvline(0, color='black',linewidth=0.5)\n",
    "plt.xlabel('Realteil')\n",
    "plt.ylabel('Imaginärteil')\n",
    "\n",
    "# Einheitskreis mit dem Radius omega_0 (ungedämpft) \n",
    "R = round(w_0,2)  \n",
    "circle = Circle((0, 0), R, fill=False, color='g', linestyle='--', label=f'ungedämpft {R}')\n",
    "plt.gca().add_patch(circle)\n",
    "\n",
    "# Legende\n",
    "plt.legend(loc='upper right')\n",
    "\n",
    "# Zeige das Diagramm\n",
    "plt.grid()\n",
    "plt.show()"
   ]
  },
  {
   "cell_type": "markdown",
   "id": "0ced328a-f879-465a-831a-44d4696d4470",
   "metadata": {},
   "source": [
    "### Darstellung der Weg-Zeitfunktion (Lösung der Dgl.)\n",
    "#### Variante 1\n",
    "\n",
    "$ q_{1}(t) = A e^{- \\delta t} \\cdot sin(\\omega t + \\varphi) $\n",
    "\n",
    "### Variante 2\n",
    "\n",
    "$ q_{2}(t) = \\psi \\cdot e^{\\lambda t} + \\overline{\\psi} \\cdot e^{\\overline\\lambda t} $\n"
   ]
  },
  {
   "cell_type": "code",
   "execution_count": 65,
   "id": "e61ba821-28e1-4559-94af-8e82a18e3fac",
   "metadata": {},
   "outputs": [],
   "source": [
    "# Erzeuge einen Zeitvektor von 0 bis 1 Sekunde mit Schrittweite 0.001\n",
    "t = np.arange(0, 1.001, 0.001)\n",
    "\n",
    "q_1 = np.real(np.exp(- delta * t) * A * np.sin(w * t + phi))\n",
    "q_2 = np.real(psi * np.exp(lambda_1 * t) + psi_conjugate * np.exp(lambda_conjugate * t))\n",
    "\n",
    "# Darstellung der Weg-Zeitfunktion\n",
    "fig, axs = plt.subplots(2, 1,figsize=(10,9))\n",
    "fig.suptitle('Weg-Zeitfunktion')\n",
    "\n",
    "# Zeige ein Gitternetz im Hintergrund an\n",
    "plt.grid(color='gray', linestyle='--', linewidth=0.5)\n",
    "\n",
    "# Erstes Gitter mit q_1\n",
    "#plt.subplot(2, 1, 1)  # 2 Zeilen, 1 Spalte, erstes Diagramm\n",
    "axs[0].grid(True, color='gray', linestyle='--', linewidth=0.5)  # Gitternetz einblenden\n",
    "axs[0].plot(t, q_1)\n",
    "axs[0].set_xlabel('Zeit / s')\n",
    "axs[0].set_ylabel('Amplitude / m')\n",
    "axs[0].set_title('Variante 1')\n",
    "\n",
    "# Zweites Gitter mit q_2\n",
    "#plt.subplot(2, 1, 2)  # 2 Zeilen, 1 Spalte, zweites Diagramm\n",
    "axs[1].grid(True, color='gray', linestyle='--', linewidth=0.5)  # Gitternetz einblenden\n",
    "axs[1].plot(t, q_2, color='orange')  # mit angepasster Farbe\n",
    "axs[1].set_xlabel('Zeit / s')\n",
    "axs[1].set_ylabel('Amplitude / m')\n",
    "axs[1].set_title('Variante 2')\n",
    "\n",
    "# Zeige die Plots an\n",
    "plt.show()"
   ]
  },
  {
   "cell_type": "markdown",
   "id": "26676d3c-72ef-4c51-91d6-93f780d8eac1",
   "metadata": {},
   "source": [
    "### Berechnung des komplexen Frequenzgang H\n",
    "$ H_{R}(j \\Omega ) = \\frac{R}{j \\Omega - \\lambda} + \\frac{\\bar{R}}{j \\Omega - \\bar{\\lambda}} $"
   ]
  },
  {
   "cell_type": "code",
   "execution_count": 66,
   "id": "46e403cd-8bd1-4a83-901f-b9a1c7c7b02f",
   "metadata": {
    "scrolled": true
   },
   "outputs": [],
   "source": [
    "# Erregerfrequenz\n",
    "omega_start = 1  # Startwert\n",
    "omega_step = 0.1  # Schrittweite\n",
    "omega_end = 100  # Endwert\n",
    "\n",
    "omega_e = np.arange(omega_start, omega_end+1, omega_step)\n",
    "\n",
    "frf = res / ((0 + 1j * omega_e) - lambda_1) + res_conjugate / ((0 + 1j * omega_e) - lambda_conjugate)\n",
    "frf_r = np.real(frf)\n",
    "frf_i = np.imag(frf)\n",
    "frf_b = np.abs(frf)\n",
    "frf_p = np.angle(frf, deg = True)\n",
    "\n",
    "# Darstellung des Frequenzgang als Real- und Imaginärteil\n",
    "fig, axs = plt.subplots(2, 1,figsize=(10,9))\n",
    "fig.suptitle('komplexer Frequenzgang')\n",
    "\n",
    "# Zeige ein Gitternetz im Hintergrund an\n",
    "plt.grid(color='gray', linestyle='--', linewidth=0.5)\n",
    "\n",
    "# Erstes Gitter mit Realteil\n",
    "axs[0].grid(True, color='gray', linestyle='--', linewidth=0.5)  # Gitternetz einblenden\n",
    "axs[0].plot(omega_e, frf_r)\n",
    "axs[0].set_xlabel('Omega in 1/s')\n",
    "axs[0].set_ylabel('Re{H} in s²/kg²')\n",
    "axs[0].set_title('Realteil von H')\n",
    "\n",
    "# Zweites Gitter mit Imaginärteil\n",
    "axs[1].grid(True, color='gray', linestyle='--', linewidth=0.5)  # Gitternetz einblenden\n",
    "axs[1].plot(omega_e, frf_i, color='orange')  # mit angepasster Farbe\n",
    "axs[1].set_xlabel('Omega in 1/s')\n",
    "axs[1].set_ylabel('Im{H} s²/kg²')\n",
    "axs[1].set_title('Imaginärteil von H')\n",
    "\n",
    "# Zeige die Plots an\n",
    "plt.show()"
   ]
  },
  {
   "cell_type": "code",
   "execution_count": 67,
   "id": "8cc41af5-1e78-4d54-8fcd-69bdbfd63ae7",
   "metadata": {},
   "outputs": [],
   "source": [
    "# Darstellung des Frequnzgang in Betrag und Phase\n",
    "fig, axs = plt.subplots(2, 1,figsize=(10,9))\n",
    "fig.suptitle('komplexer Frequenzgang')\n",
    "\n",
    "# Zeige ein Gitternetz im Hintergrund an\n",
    "plt.grid(color='gray', linestyle='--', linewidth=0.5)\n",
    "\n",
    "# Erstes Gitter mit Realteil\n",
    "axs[0].grid(True, color='gray', linestyle='--', linewidth=0.5)  # Gitternetz einblenden\n",
    "axs[0].plot(omega_e, frf_b)\n",
    "axs[0].set_xlabel('Omega in 1/s')\n",
    "axs[0].set_ylabel('Betrag{H} in s²/kg²')\n",
    "axs[0].set_title('Betrag von H')\n",
    "\n",
    "# Zweites Gitter mit Imaginärteil\n",
    "axs[1].grid(True, color='gray', linestyle='--', linewidth=0.5)  # Gitternetz einblenden\n",
    "axs[1].plot(omega_e, frf_p, color='orange')  # mit angepasster Farbe\n",
    "axs[1].set_xlabel('Omega in 1/s')\n",
    "axs[1].set_ylabel('Phase{H} in Grad')\n",
    "axs[1].set_title('Phase von H')\n",
    "\n",
    "# Zeige die Plots an\n",
    "plt.show()"
   ]
  },
  {
   "cell_type": "code",
   "execution_count": 68,
   "id": "b2adbbee-6bd4-47ba-8925-e29b774f525c",
   "metadata": {},
   "outputs": [],
   "source": [
    "# Berechnung der Sprungantwort\n",
    "h = 2 * np.abs(res) * np.exp(- delta * t) * np.sin(w * t)\n",
    "\n",
    "# Darstellung der Sprungantwort\n",
    "plt.figure(figsize=(10, 4))\n",
    "plt.plot(t, h, marker=' ', linestyle='-')\n",
    "plt.xlabel('Zeit (s)')\n",
    "plt.ylabel('Amplitude (m/N*s)')\n",
    "plt.title('Sprungantwort')\n",
    "plt.grid(True)\n",
    "plt.show()"
   ]
  },
  {
   "cell_type": "code",
   "execution_count": 69,
   "id": "e700d850-d721-4edc-b817-ea2c9de9145b",
   "metadata": {},
   "outputs": [],
   "source": [
    "# Zeichne die Ortskurve\n",
    "plt.figure(figsize=(6, 6))\n",
    "plt.plot(frf_r, frf_i)\n",
    "plt.axhline(0, color='black',linewidth=1)\n",
    "plt.axvline(0, color='black',linewidth=1)\n",
    "plt.xlabel('Realteil von H')\n",
    "plt.ylabel('Imaginärteil von H')\n",
    "plt.title('Ortskurve')\n",
    "plt.grid(True)\n",
    "plt.show()"
   ]
  }
 ],
 "metadata": {
  "kernelspec": {
   "display_name": "Python 3 (Spyder)",
   "language": "python3",
   "name": "python3"
  },
  "language_info": {
   "codemirror_mode": {
    "name": "ipython",
    "version": 3
   },
   "file_extension": ".py",
   "mimetype": "text/x-python",
   "name": "python",
   "nbconvert_exporter": "python",
   "pygments_lexer": "ipython3",
   "version": "3.11.4"
  }
 },
 "nbformat": 4,
 "nbformat_minor": 5
}
