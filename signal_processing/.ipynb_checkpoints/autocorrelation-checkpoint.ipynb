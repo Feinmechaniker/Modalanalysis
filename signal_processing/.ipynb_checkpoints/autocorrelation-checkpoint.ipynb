{
 "cells": [
  {
   "cell_type": "code",
   "execution_count": 104,
   "id": "7ad0b53c-04ab-4a8d-8c4c-f1eca7cb9d58",
   "metadata": {},
   "outputs": [
    {
     "name": "stderr",
     "output_type": "stream",
     "text": [
      "C:\\Users\\Grabow\\anaconda3\\Lib\\site-packages\\PIL\\Image.py:104: RuntimeWarning: The _imaging extension was built for another version of Pillow or PIL:\n",
      "Core version: 9.4.0\n",
      "Pillow version: 10.0.1\n",
      "  warnings.warn(str(v), RuntimeWarning)\n",
      "[autoreload of PIL.Image failed: Traceback (most recent call last):\n",
      "  File \"C:\\Users\\Grabow\\anaconda3\\Lib\\site-packages\\IPython\\extensions\\autoreload.py\", line 276, in check\n",
      "    superreload(m, reload, self.old_objects)\n",
      "  File \"C:\\Users\\Grabow\\anaconda3\\Lib\\site-packages\\IPython\\extensions\\autoreload.py\", line 475, in superreload\n",
      "    module = reload(module)\n",
      "             ^^^^^^^^^^^^^^\n",
      "  File \"C:\\Users\\Grabow\\anaconda3\\Lib\\importlib\\__init__.py\", line 169, in reload\n",
      "    _bootstrap._exec(spec, module)\n",
      "  File \"<frozen importlib._bootstrap>\", line 621, in _exec\n",
      "  File \"<frozen importlib._bootstrap_external>\", line 940, in exec_module\n",
      "  File \"<frozen importlib._bootstrap>\", line 241, in _call_with_frames_removed\n",
      "  File \"C:\\Users\\Grabow\\anaconda3\\Lib\\site-packages\\PIL\\Image.py\", line 90, in <module>\n",
      "    raise ImportError(msg)\n",
      "ImportError: The _imaging extension was built for another version of Pillow or PIL:\n",
      "Core version: 9.4.0\n",
      "Pillow version: 10.0.1\n",
      "]\n"
     ]
    }
   ],
   "source": [
    "# -*- coding: utf-8 -*-\n",
    "\"\"\"\n",
    "Created on Fri Sep  1 19:13:41 2023\n",
    "\n",
    "Program history\n",
    "15.01.2024    V. 1.0    Start\n",
    "\n",
    "@author: Prof. Jörg Grabow (grabow@amesys.de)\n",
    "\"\"\"\n",
    "__version__ = '1.0'\n",
    "__author__ = 'Joe Grabow'\n",
    "\n",
    "import numpy as np\n",
    "import matplotlib.pyplot as plt"
   ]
  },
  {
   "cell_type": "markdown",
   "id": "4072be1f-bbf6-4415-ba0b-89213b87ca86",
   "metadata": {},
   "source": [
    "## Funktionen zur Zeitreihenannalyse\n",
    "\n",
    "### Autokorrelationsfunktion"
   ]
  },
  {
   "cell_type": "code",
   "execution_count": 105,
   "id": "2aad8f00-ffe4-4522-b8a0-1e7f6a02dfb8",
   "metadata": {},
   "outputs": [],
   "source": [
    "def autocorrelation_function(data):\n",
    "    N = len(data) \n",
    "    acf = []\n",
    "    for k in range(N):\n",
    "        sum_term = sum(data[i] * data[i - k] for i in range(k, N))\n",
    "        acf.append(sum_term / (N - k))\n",
    "    return acf"
   ]
  },
  {
   "cell_type": "markdown",
   "id": "f1e4b8df-fa9f-4021-9d07-8a84eb50f80b",
   "metadata": {},
   "source": [
    "### Funktionen zur Zeitreihenanalyse"
   ]
  },
  {
   "cell_type": "code",
   "execution_count": 106,
   "id": "2aa1deb9-c37c-483b-8c6f-4e320d751d3d",
   "metadata": {},
   "outputs": [],
   "source": [
    "# Funktion zur Berechnung einer Sinusfunktion\n",
    "def sinus_function(x, amplitude, frequency, phase):\n",
    "    return amplitude * np.sin(2 * np.pi * frequency * x + phase)"
   ]
  },
  {
   "cell_type": "code",
   "execution_count": 107,
   "id": "1f7ad3e0-dd5b-4f9a-ac76-732e61e147c5",
   "metadata": {},
   "outputs": [],
   "source": [
    "# weißes Rauschen\n",
    "def generate_white_noise(N):\n",
    "    white_noise = np.random.randn(N)\n",
    "    return white_noise"
   ]
  },
  {
   "cell_type": "markdown",
   "id": "f1eec790-6ed9-41a3-b71a-7cc89caeeca5",
   "metadata": {},
   "source": [
    "### graphische Darstellung"
   ]
  },
  {
   "cell_type": "code",
   "execution_count": 108,
   "id": "38942f4b-bb27-4d02-82a0-f7a3b4a4cc43",
   "metadata": {},
   "outputs": [],
   "source": [
    "def plot_time_series_analysis(title, signal, acf):\n",
    "    fig, axs = plt.subplots(2, 1, figsize=(10, 7))\n",
    "    fig.suptitle(title)\n",
    "\n",
    "    axs[0].plot(x_values, signal, '-', color='cornflowerblue', label=title)\n",
    "    axs[0].legend(loc='upper right')\n",
    "    axs[0].set_xlabel('Abtastwerte')\n",
    "    axs[0].set_ylabel('Amplitude')\n",
    "\n",
    "    axs[1].plot(x_values, acf, '-', color='cornflowerblue', label=\"Autokorrelationsfunktion\")\n",
    "    axs[1].legend(loc='upper right')\n",
    "    axs[1].set_xlabel('Abtastwerte')\n",
    "    axs[1].set_ylabel('Amplitude')\n",
    "\n",
    "    # Zeige ein Gitternetz im Hintergrund an\n",
    "    for ax in axs:\n",
    "        ax.grid(True, color='gray', linestyle='--', linewidth=0.5)\n",
    "\n",
    "    # Markierung der Abtatswerte bei null\n",
    "    axs[0].scatter(0, signal[0], color='red', zorder=5)\n",
    "    axs[1].scatter(0, acf[0], color='red', zorder=5)\n",
    "\n",
    "    plt.show()"
   ]
  },
  {
   "cell_type": "markdown",
   "id": "ba5930bd-970d-4775-9546-f6b1bdd4e5f0",
   "metadata": {},
   "source": [
    "### Hauptprogram zur Zeitreihenanalyse"
   ]
  },
  {
   "cell_type": "code",
   "execution_count": 109,
   "id": "a082f7fd-ee2c-42de-a47b-f31039c74e7d",
   "metadata": {},
   "outputs": [],
   "source": [
    "# Testfunktionen erstellen\n",
    "N = 1000\n",
    "x_values = np.arange(N)\n",
    "sinus_wave = sinus_function(x_values, amplitude=3, frequency=0.01, phase=0)\n",
    "noise = generate_white_noise(N)\n",
    "sinus_noise = sinus_wave + noise"
   ]
  },
  {
   "cell_type": "markdown",
   "id": "97d89e0f-e3c2-470c-81cc-6b20ab388b26",
   "metadata": {},
   "source": [
    "### Darstellung"
   ]
  },
  {
   "cell_type": "code",
   "execution_count": 110,
   "id": "e11f7599-8d51-4d58-ad69-c8105f1aade4",
   "metadata": {},
   "outputs": [],
   "source": [
    "# Autokorrelationsfunktion berechnen und plotten\n",
    "acf_sinus_wave = autocorrelation_function(sinus_wave)\n",
    "plot_time_series_analysis('Sinusfunktion', sinus_wave, acf_sinus_wave)\n",
    "\n",
    "acf_white_noise = autocorrelation_function(noise)\n",
    "plot_time_series_analysis('weißes Rauschen', noise, acf_white_noise)\n",
    "\n",
    "acf_sinus_noise = autocorrelation_function(sinus_noise)\n",
    "plot_time_series_analysis('Sinus überlagert mit Rauschen', sinus_noise, acf_sinus_noise)\n"
   ]
  }
 ],
 "metadata": {
  "kernelspec": {
   "display_name": "Python 3 (Spyder)",
   "language": "python3",
   "name": "python3"
  },
  "language_info": {
   "codemirror_mode": {
    "name": "ipython",
    "version": 3
   },
   "file_extension": ".py",
   "mimetype": "text/x-python",
   "name": "python",
   "nbconvert_exporter": "python",
   "pygments_lexer": "ipython3",
   "version": "3.11.4"
  }
 },
 "nbformat": 4,
 "nbformat_minor": 5
}
