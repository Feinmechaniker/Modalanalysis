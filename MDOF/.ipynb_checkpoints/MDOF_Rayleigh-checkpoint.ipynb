{
 "cells": [
  {
   "attachments": {},
   "cell_type": "markdown",
   "id": "e3be61eb-0247-4cff-83b1-ccd8b2842933",
   "metadata": {},
   "source": [
    "# Experimentelle Modalanalyse (EMA) | Prof. J. Grabow\n",
    "## MDOF (Systeme mit einem Freiheitsgrad f>1) und Rayleigh-Dämpfung\n",
    "### modale Entkopplung"
   ]
  },
  {
   "cell_type": "code",
   "execution_count": 58,
   "id": "650090df-531b-4df8-8373-c102e3f9f79b",
   "metadata": {},
   "outputs": [],
   "source": [
    "# -*- coding: utf-8 -*-\n",
    "\"\"\"\n",
    "Created on Fri Sep  1 19:13:41 2023\n",
    "\n",
    "Program history\n",
    "01.09.2023    V. 1.0    Start\n",
    "09.10.2023    V. 1.1    Anfangsbedingungen\n",
    "10.10.2023    V  1.2    Lösung des entkoppelten Systems im Zeitbereich\n",
    "16.11.2023    V  1.3    Frequenzgang\n",
    "23.11.2023    V  1.4    Dokumentation\n",
    "\n",
    "@author: Prof. Jörg Grabow (grabow@amesys.de)\n",
    "\"\"\"\n",
    "__version__ = '1.4'\n",
    "__author__ = 'Joe Grabow'\n",
    "\n",
    "import numpy as np\n",
    "import matplotlib.pyplot as plt\n",
    "import sympy as sym\n",
    "from sympy import *\n",
    "from sympy.physics.mechanics import dynamicsymbols, mlatex\n",
    "from IPython.display import Math, Latex\n",
    "from matplotlib.widgets import MultiCursor"
   ]
  },
  {
   "attachments": {},
   "cell_type": "markdown",
   "id": "19db89b2-5845-43ef-a65f-05bf8003de7c",
   "metadata": {},
   "source": [
    "### Hilfsfunktion normiere_matrix(matrix)\n",
    "Normiert in einer Matrix in jedem Spaltenvektor den betragsmäßig größten Wert auf eins (Darstellungsnorm)."
   ]
  },
  {
   "cell_type": "code",
   "execution_count": 59,
   "id": "f74fed69-448b-4ed8-9a38-063f633fda72",
   "metadata": {},
   "outputs": [],
   "source": [
    "def normiere_matrix(matrix):\n",
    "    \"\"\"normiert in einer Matrix in jedem Spaltenvektor den betragsmäßig größten\n",
    "    Wert auf eins\"\"\"\n",
    "    max_abs_werte = np.max(np.abs(matrix), axis=0)\n",
    "    normierte_matrix = matrix / max_abs_werte\n",
    "    return normierte_matrix"
   ]
  },
  {
   "attachments": {},
   "cell_type": "markdown",
   "id": "94a71415-0c0b-4ce9-8e76-0deccadbfad1",
   "metadata": {},
   "source": [
    "### Hilfsfunktion zur Berechnung des komplexen Frequenzganges"
   ]
  },
  {
   "cell_type": "code",
   "execution_count": 60,
   "id": "8b3bfecf-f54e-49f6-8a93-446f1ae42da3",
   "metadata": {},
   "outputs": [],
   "source": [
    "def frf(ordnung,i,k,omega_e):\n",
    "    # Estimate the frequency-response functions of the model.\n",
    "    # erzeuge komplexen Null-Vektor in Länge des Vektors der Erregerfrequenz\n",
    "    f_vektor = np.zeros(len(omega_e), dtype=complex)\n",
    "    for n in range(ordnung):\n",
    "        S_1 = (Residuum[n] * phi[i,n] * phi[k,n]) / \\\n",
    "            ((0+1j) * omega_e - eigenwert_k[n])\n",
    "        S_2 = (np.conj(Residuum[n]) * phi[i,n] * phi[k,n]) / \\\n",
    "            ((0+1j) * omega_e - np.conj(eigenwert_k[n] ))\n",
    "        f_vektor = f_vektor + S_1 + S_2\n",
    "    return f_vektor"
   ]
  },
  {
   "attachments": {},
   "cell_type": "markdown",
   "id": "4dc282b6-5d63-43cd-868b-570dbc8c1ee0",
   "metadata": {},
   "source": [
    "## Definition der Systemparameter\n",
    "Alle Systemparameter wie Massen, Steifigkeiten oder Dämpfungen werden in SI-Einheiten angegeben."
   ]
  },
  {
   "cell_type": "code",
   "execution_count": 61,
   "id": "524fae9d-8781-49ef-bba5-131f938ced65",
   "metadata": {},
   "outputs": [],
   "source": [
    "# Eingabe der Systemmatrizen M,C,K\n",
    "m1, m2, m3 = (60e3, 60e3, 15e3)\n",
    "c1, c2, c3 = (30e6, 30e6, 10e6)\n",
    "k1, k2, k3 = (100, 250, 80)\n",
    "alpha, beta = 0.9, 1e-4"
   ]
  },
  {
   "attachments": {},
   "cell_type": "markdown",
   "id": "38e8a5f8-ceec-416a-948c-c9b8dc4173e0",
   "metadata": {},
   "source": [
    "## Definition der Systemmatrizen\n",
    "Eingabe der Massenmatrix, Steifigkeitsmatrix und Dämpfungsmatrix\n",
    "\n",
    "### Eingabe der Matrizen und Anfangsbedingungen\n",
    "---\n",
    "- *M - Massenmatrix als Array*\n",
    "- *C - Steifigkeitsmatrix als Array*\n",
    "- *K - Dämfungsmatrix als Array*\n",
    "---\n",
    "Bei proportionaler Dämpfung (Rayleigh-Dämpfung): $K = \\alpha M + \\beta C$."
   ]
  },
  {
   "cell_type": "code",
   "execution_count": 62,
   "id": "ea5897f8-0a9d-4528-bf3d-8a932a814865",
   "metadata": {},
   "outputs": [],
   "source": [
    "M = np.array([[m1, 0, 0],\n",
    "              [0, m2, 0],\n",
    "              [0, 0, m3]])\n",
    "C = np.array([[c1+c2, -c2,   0],\n",
    "              [-c2, c2+c3, -c3],\n",
    "              [0, -c3,  c3]])\n",
    "K = np.array([[k1+k2, -k2,   0],\n",
    "              [-k2, k2+k3, -k3],\n",
    "              [0, -k3,  k3]])\n",
    "# nur bei Rayleigh-Dämpfung\n",
    "K = alpha*M + beta*C"
   ]
  },
  {
   "attachments": {},
   "cell_type": "markdown",
   "id": "f3f043a2-5a6e-41e1-a4ce-e9013df70a9a",
   "metadata": {},
   "source": [
    "## Systemmatrizen\n",
    "### Massenmatrix"
   ]
  },
  {
   "cell_type": "code",
   "execution_count": 63,
   "id": "a3c563cd-464a-46df-84d5-084a1631b8c6",
   "metadata": {
    "jupyter": {
     "source_hidden": true
    }
   },
   "outputs": [
    {
     "data": {
      "text/latex": [
       "$\\displaystyle M = \\left[\\begin{matrix}60000.0 & 0 & 0\\\\0 & 60000.0 & 0\\\\0 & 0 & 15000.0\\end{matrix}\\right]$"
      ],
      "text/plain": [
       "<IPython.core.display.Math object>"
      ]
     },
     "execution_count": 63,
     "metadata": {},
     "output_type": "execute_result"
    }
   ],
   "source": [
    "Math(rf'M = {sym.latex(Matrix(M))}')"
   ]
  },
  {
   "attachments": {},
   "cell_type": "markdown",
   "id": "2636d3d1-e84b-40c3-aca0-c89129c6b983",
   "metadata": {},
   "source": [
    "### Steifigkeitsmatrix"
   ]
  },
  {
   "cell_type": "code",
   "execution_count": 64,
   "id": "0b32fb3a-1f2c-44a8-91b7-cbfe52044dbb",
   "metadata": {
    "jupyter": {
     "source_hidden": true
    }
   },
   "outputs": [
    {
     "data": {
      "text/latex": [
       "$\\displaystyle C = \\left[\\begin{matrix}60000000.0 & -30000000.0 & 0\\\\-30000000.0 & 40000000.0 & -10000000.0\\\\0 & -10000000.0 & 10000000.0\\end{matrix}\\right]$"
      ],
      "text/plain": [
       "<IPython.core.display.Math object>"
      ]
     },
     "execution_count": 64,
     "metadata": {},
     "output_type": "execute_result"
    }
   ],
   "source": [
    "Math(rf'C = {sym.latex(Matrix(C))}')"
   ]
  },
  {
   "attachments": {},
   "cell_type": "markdown",
   "id": "a0d7206a-45e5-4bdd-ba6d-ee9093e9cba3",
   "metadata": {},
   "source": [
    "### Dämpfungsmatrix"
   ]
  },
  {
   "cell_type": "code",
   "execution_count": 65,
   "id": "e1e25dc0-4f51-4f3f-8da9-b3f5160d07ca",
   "metadata": {
    "jupyter": {
     "source_hidden": true
    }
   },
   "outputs": [
    {
     "data": {
      "text/latex": [
       "$\\displaystyle K = \\left[\\begin{matrix}60000.0 & -3000.0 & 0\\\\-3000.0 & 58000.0 & -1000.0\\\\0 & -1000.0 & 14500.0\\end{matrix}\\right]$"
      ],
      "text/plain": [
       "<IPython.core.display.Math object>"
      ]
     },
     "execution_count": 65,
     "metadata": {},
     "output_type": "execute_result"
    }
   ],
   "source": [
    "Math(rf'K = {sym.latex(Matrix(K))}')"
   ]
  },
  {
   "cell_type": "code",
   "execution_count": 66,
   "id": "c53ac64d-7a70-475d-9817-6fca1d299e49",
   "metadata": {},
   "outputs": [],
   "source": [
    "# verallgemeinerte Koordinaten q(t)\n",
    "q1, q2, q3 = dynamicsymbols('q1 q2 q3')\n",
    "Q = sym.Matrix([[q1],[q2],[q3]])\n",
    "\n",
    "# Erregerkräfte f(t)\n",
    "f1, f2, f3 = dynamicsymbols('f1 f2 f3')\n",
    "F = sym.Matrix([[f1],[f2],[f3]])\n",
    "\n",
    "# Zeitableitungen der verallgemeinerten Koordinaten q(t)\n",
    "t = sym.Symbol('t')\n",
    "Qd = Q.diff(t,1)\n",
    "Qdd = Q.diff(t,2)"
   ]
  },
  {
   "attachments": {},
   "cell_type": "markdown",
   "id": "4c9ecdcd-04e8-4e5d-b1c3-25e412be6b9d",
   "metadata": {},
   "source": [
    "### Dgl.-System"
   ]
  },
  {
   "cell_type": "code",
   "execution_count": 67,
   "id": "1c1164a5-9e1b-42e8-80e6-0dbd33e748bc",
   "metadata": {},
   "outputs": [
    {
     "data": {
      "text/latex": [
       "$\\displaystyle \\left[\\begin{matrix}60000.0 & 0 & 0\\\\0 & 60000.0 & 0\\\\0 & 0 & 15000.0\\end{matrix}\\right]\\left[\\begin{matrix}\\ddot{q}_{1}\\\\\\ddot{q}_{2}\\\\\\ddot{q}_{3}\\end{matrix}\\right]+\\left[\\begin{matrix}60000000.0 & -30000000.0 & 0\\\\-30000000.0 & 40000000.0 & -10000000.0\\\\0 & -10000000.0 & 10000000.0\\end{matrix}\\right]\\left[\\begin{matrix}\\dot{q}_{1}\\\\\\dot{q}_{2}\\\\\\dot{q}_{3}\\end{matrix}\\right]\\left[\\begin{matrix}60000.0 & -3000.0 & 0\\\\-3000.0 & 58000.0 & -1000.0\\\\0 & -1000.0 & 14500.0\\end{matrix}\\right]\\left[\\begin{matrix}q_{1}\\\\q_{2}\\\\q_{3}\\end{matrix}\\right]=\\left[\\begin{matrix}f_{1}\\\\f_{2}\\\\f_{3}\\end{matrix}\\right]$"
      ],
      "text/plain": [
       "<IPython.core.display.Math object>"
      ]
     },
     "metadata": {},
     "output_type": "display_data"
    }
   ],
   "source": [
    "display(Math(sym.latex(Matrix(M))+mlatex(Qdd)+'+'+sym.latex(Matrix(C))+mlatex(Qd)+sym.latex(Matrix(K))+mlatex(Q)+'='+mlatex(F)))"
   ]
  },
  {
   "attachments": {},
   "cell_type": "markdown",
   "id": "112956a6-68c4-4447-94ad-fec9528641cd",
   "metadata": {},
   "source": [
    " ### Anfangsbedingungen $q_{o}$ und $v_{0}$"
   ]
  },
  {
   "cell_type": "code",
   "execution_count": 68,
   "id": "95c6f185-448a-4cea-a389-90d2c917bdc6",
   "metadata": {},
   "outputs": [],
   "source": [
    "# Anfangsbedingungen\n",
    "q_0 = np.array([1e-3, -2e-3, 0.5e-3])  # Anfangsweg in mm\n",
    "v_0 = np.array([0.5e-3, 1e-3, -0.5e-3])  # Anfangsgeschwindigkeit in mm/s"
   ]
  },
  {
   "attachments": {},
   "cell_type": "markdown",
   "id": "ec1e1286-959e-4e5e-b6c3-b823dd6a4d52",
   "metadata": {},
   "source": [
    "## Berechnungen zur Entkopplung des Dgl.-Systems\n",
    "### Die Systemmatrix A: \n",
    "\n",
    "$A = M^{-1} \\cdot C$"
   ]
  },
  {
   "cell_type": "code",
   "execution_count": 69,
   "id": "e1b93bb8-3adb-4a0f-bee1-13e8f83baf41",
   "metadata": {},
   "outputs": [],
   "source": [
    "A = np.matmul(np.linalg.inv(M),C)"
   ]
  },
  {
   "attachments": {},
   "cell_type": "markdown",
   "id": "b2d9bafd-46b3-4f65-943e-1bc1023d5cd3",
   "metadata": {},
   "source": [
    "### Das spezielle Eigenwertproblem\n",
    "$\\left( A - \\lambda \\cdot E \\right) \\cdot \\psi = 0$ \n",
    "\n",
    "$det \\left( A - \\lambda E \\right) = 0$"
   ]
  },
  {
   "cell_type": "code",
   "execution_count": 70,
   "id": "4e91e8e1-3367-48ed-9a86-99c6b6b23205",
   "metadata": {},
   "outputs": [],
   "source": [
    "eigenwerte, eigenvektoren = np.linalg.eig(A)\n",
    "\n",
    "# Sortiere die Eigenwerte und -vektoren nach den Eigenwerten\n",
    "sort_indices = np.argsort(eigenwerte)[::-1]\n",
    "sortierte_eigenwerte = eigenwerte[sort_indices]\n",
    "sortierte_eigenvektoren = eigenvektoren[:, sort_indices]"
   ]
  },
  {
   "attachments": {},
   "cell_type": "markdown",
   "id": "05ecab0b-3f6c-4355-a89a-edaf21ccae4c",
   "metadata": {},
   "source": [
    "Eigenkreisfrequenzen (ungedämpft) sortiert nöch Größe:\n",
    "\n",
    "$\\omega _0 = \\sqrt{ \\lambda }$"
   ]
  },
  {
   "cell_type": "code",
   "execution_count": 71,
   "id": "b0952bec-0249-474b-b6d7-2cb309c4a015",
   "metadata": {},
   "outputs": [
    {
     "data": {
      "text/plain": [
       "array([37.62931365, 27.62475937, 12.41937023])"
      ]
     },
     "execution_count": 71,
     "metadata": {},
     "output_type": "execute_result"
    }
   ],
   "source": [
    "wn = np.sqrt(sortierte_eigenwerte)\n",
    "wn"
   ]
  },
  {
   "attachments": {},
   "cell_type": "markdown",
   "id": "a6f0d37a-1c81-4ea1-a30e-357c9c54b194",
   "metadata": {},
   "source": [
    "zugehörige Eigenvektoren $\\psi$ und die Eigenvektormatrix $\\Psi$"
   ]
  },
  {
   "cell_type": "code",
   "execution_count": 72,
   "id": "c3f9ef82-0080-40a5-91a4-f93e98e5d549",
   "metadata": {
    "tags": []
   },
   "outputs": [
    {
     "data": {
      "text/plain": [
       "array([[ 0.66815554, -0.28934219, -0.3389505 ],\n",
       "       [-0.55585897, -0.13707452, -0.57334103],\n",
       "       [ 0.49455938,  0.94736037, -0.7459173 ]])"
      ]
     },
     "execution_count": 72,
     "metadata": {},
     "output_type": "execute_result"
    }
   ],
   "source": [
    "sortierte_eigenvektoren"
   ]
  },
  {
   "cell_type": "code",
   "execution_count": 73,
   "id": "5d802b56-e719-4579-bea3-7e3f1f3021d7",
   "metadata": {
    "tags": []
   },
   "outputs": [],
   "source": [
    "ordnung = len(wn)"
   ]
  },
  {
   "attachments": {},
   "cell_type": "markdown",
   "id": "066b761f-813e-4261-8ae3-be27fc4321e0",
   "metadata": {},
   "source": [
    "### Normierung der Eigenvektoren\n",
    "In jedem Eigenvektor wird der betragsmäßig größte Wert immer auf eins normiert.\n",
    "\n",
    "normierte Eigenvektoren $\\psi_{N}$"
   ]
  },
  {
   "cell_type": "code",
   "execution_count": 74,
   "id": "80e93b26-3d19-4e66-8b48-4d0b4c92e167",
   "metadata": {},
   "outputs": [
    {
     "data": {
      "text/plain": [
       "array([[ 1.        , -0.30541935, -0.45440761],\n",
       "       [-0.83193049, -0.144691  , -0.76863886],\n",
       "       [ 0.74018601,  1.        , -1.        ]])"
      ]
     },
     "execution_count": 74,
     "metadata": {},
     "output_type": "execute_result"
    }
   ],
   "source": [
    "psi = normiere_matrix(sortierte_eigenvektoren)\n",
    "psi"
   ]
  },
  {
   "attachments": {},
   "cell_type": "markdown",
   "id": "c32152c2-ad73-4eb7-ac76-2538aee3a1b8",
   "metadata": {},
   "source": [
    "### Transformation der Koordinate q(t) ind den Modalraum p(t)"
   ]
  },
  {
   "attachments": {},
   "cell_type": "markdown",
   "id": "f2607739-d271-42f7-a09a-a02e10a35052",
   "metadata": {},
   "source": [
    "$ \\bar{q}=\\Psi \\cdot \\bar{p} $\n",
    "\n",
    "$ M\\Psi \\ddot{\\bar{p}} + K\\Psi \\dot{\\bar{p}} + C\\Psi \\bar{p} = \\bar{f} $\n",
    "\n",
    "$ \\Psi ^{T} M\\Psi \\ddot{\\bar{p}} + \\Psi ^{^{T}} K\\Psi \\dot{\\bar{p}} + \\Psi ^{T} C\\Psi \\bar{p} = \\Psi ^{T} \\bar{f} $\n",
    "\n",
    "$ M_{G}\\ \\ddot{\\bar{p}} + K_{G}\\ \\dot{\\bar{p}} + C_{G}\\ \\bar{p} = \\Psi ^{T} \\bar{f} $"
   ]
  },
  {
   "attachments": {},
   "cell_type": "markdown",
   "id": "9dc88643-733a-448f-8488-e8c80b86fd26",
   "metadata": {},
   "source": [
    "### Die generalisierte Massenmatrix $M_G$ im Modalraum\n",
    "generalisierte Massenmatrix:\n",
    "\n",
    "$M_G = \\Psi ^T M \\Psi$"
   ]
  },
  {
   "cell_type": "code",
   "execution_count": 75,
   "id": "6f9f4533-f24b-451b-8f56-4e1f8d7f9ec6",
   "metadata": {},
   "outputs": [
    {
     "data": {
      "text/plain": [
       "array([[109744.63,     -0.  ,     -0.  ],\n",
       "       [    -0.  ,  21852.99,     -0.  ],\n",
       "       [    -0.  ,     -0.  ,  62837.52]])"
      ]
     },
     "execution_count": 75,
     "metadata": {},
     "output_type": "execute_result"
    }
   ],
   "source": [
    "psiT = np.transpose(psi)\n",
    "MG = np.dot(np.dot(psiT,M),psi)\n",
    "np.around(MG,2)"
   ]
  },
  {
   "attachments": {},
   "cell_type": "markdown",
   "id": "471a1e31-3d86-417e-8969-8ffddebd35cb",
   "metadata": {},
   "source": [
    "### Die Modalmatrix $\\phi$\n",
    "\n",
    "$ \\Phi^{T} M \\Phi \\ \\ddot{\\bar{p}} + \\Phi ^{^{T}} K\\Phi\\ \\dot{\\bar{p}} + \\Phi ^{T} C\\Phi \\ \\bar{p} = \\Phi ^{T} \\bar{f} $\n",
    "\n",
    "$ E \\ddot{\\bar{p}} + K_{m} \\dot{\\bar{p}} + \\Omega  \\bar{p} = \\Phi ^{T} \\bar{f} $\n",
    "\n",
    "Normierung der Eigenvektoren $\\psi \\text{  auf  } \\phi$\n",
    "\n",
    "$\\phi ^{(i)} = \\frac{\\psi ^{(i)}} { \\sqrt{{M_G}_{i,i} } }$"
   ]
  },
  {
   "cell_type": "code",
   "execution_count": 76,
   "id": "8faf889e-5ff2-4dda-88f7-dba9ea6ea865",
   "metadata": {
    "tags": []
   },
   "outputs": [],
   "source": [
    "phi = psi/(np.sqrt(np.diag(MG)))"
   ]
  },
  {
   "attachments": {},
   "cell_type": "markdown",
   "id": "8c471f54-4e5a-4fdf-853f-16434048de82",
   "metadata": {},
   "source": [
    "Modalmatrix $\\Phi$"
   ]
  },
  {
   "cell_type": "code",
   "execution_count": 77,
   "id": "40e0ce59-e619-422d-8767-3ec49b9eae8e",
   "metadata": {},
   "outputs": [
    {
     "data": {
      "text/plain": [
       "array([[ 0.00301862, -0.00206605, -0.00181274],\n",
       "       [-0.00251128, -0.00097878, -0.00306629],\n",
       "       [ 0.00223434,  0.00676464, -0.00398924]])"
      ]
     },
     "execution_count": 77,
     "metadata": {},
     "output_type": "execute_result"
    }
   ],
   "source": [
    "phi"
   ]
  },
  {
   "attachments": {},
   "cell_type": "markdown",
   "id": "c9db4984-afc5-4e73-aa22-4fd3620f9ce8",
   "metadata": {},
   "source": [
    "Proberechnung\n",
    "\n",
    "$\\Phi^{T} \\cdot M \\cdot \\Phi = E$"
   ]
  },
  {
   "cell_type": "code",
   "execution_count": 78,
   "id": "1ff680ac-f7e8-4363-83f4-7dfb2ee612ca",
   "metadata": {
    "tags": []
   },
   "outputs": [
    {
     "data": {
      "text/plain": [
       "array([[ 1., -0., -0.],\n",
       "       [-0.,  1., -0.],\n",
       "       [-0., -0.,  1.]])"
      ]
     },
     "execution_count": 78,
     "metadata": {},
     "output_type": "execute_result"
    }
   ],
   "source": [
    "E = np.dot(np.dot(np.transpose(phi),M),phi)\n",
    "np.around(E,2)"
   ]
  },
  {
   "attachments": {},
   "cell_type": "markdown",
   "id": "b9f93dbd-7db2-4fd0-a241-377f87d2e82d",
   "metadata": {},
   "source": [
    "### Die modale Dämpfungsmatrix $K_m$\n",
    "$K_m =\\Phi^T \\cdot K \\cdot \\Phi$\n"
   ]
  },
  {
   "cell_type": "code",
   "execution_count": 79,
   "id": "92234645-7604-4390-bf8b-8cdfa94b21c6",
   "metadata": {
    "tags": []
   },
   "outputs": [
    {
     "data": {
      "text/plain": [
       "array([[ 1.0416, -0.    , -0.    ],\n",
       "       [-0.    ,  0.9763, -0.    ],\n",
       "       [-0.    , -0.    ,  0.9154]])"
      ]
     },
     "execution_count": 79,
     "metadata": {},
     "output_type": "execute_result"
    }
   ],
   "source": [
    "Km = np.dot(np.dot(np.transpose(phi),K),phi)\n",
    "np.around(Km,4)"
   ]
  },
  {
   "attachments": {},
   "cell_type": "markdown",
   "id": "48f6d13d-7387-4229-8892-f86a6623c257",
   "metadata": {},
   "source": [
    "### Die Spektralmatrix $ \\Omega $\n",
    "$ \\Omega =\\Phi^T \\cdot C \\cdot \\Phi $"
   ]
  },
  {
   "cell_type": "code",
   "execution_count": 80,
   "id": "f8b2fcee-4cee-42d5-bf50-43f2ca069ab1",
   "metadata": {},
   "outputs": [
    {
     "data": {
      "text/plain": [
       "array([[1415.9652,   -0.    ,   -0.    ],\n",
       "       [  -0.    ,  763.1273,   -0.    ],\n",
       "       [  -0.    ,   -0.    ,  154.2408]])"
      ]
     },
     "execution_count": 80,
     "metadata": {},
     "output_type": "execute_result"
    }
   ],
   "source": [
    "CSp = np.dot(np.dot(np.transpose(phi),C),phi)\n",
    "np.around(CSp,4)"
   ]
  },
  {
   "attachments": {},
   "cell_type": "markdown",
   "id": "481ecf8e-f1f4-47a9-8743-d5ea05b0d409",
   "metadata": {},
   "source": [
    "### Entkoppeltes Dgl.-System im Modalraum\n",
    "\n",
    "$1\\cdot \\ddot{p_{1}}+2 D_{1} \\omega _{01} \\ \\dot{p_{1}} + \\omega _{01}^{2} \\ p{_{1}} =\\Phi _{11} f_{1} + \\Phi _{21} f_{2} +\\Phi _{31} f_{3} $\n",
    "\n",
    "$ 1\\cdot \\ddot{p_{2}}+2 D_{2} \\omega _{02} \\ \\dot{p_{2}} + \\omega _{02}^{2} \\ p{_{2}} =\\Phi _{12} f_{1} + \\Phi _{22} f_{2} +\\Phi _{32} f_{3} $\n",
    "\n",
    "$ 1\\cdot \\ddot{p_{3}}+2 D_{3} \\omega _{03} \\ \\dot{p_{3}} + \\omega _{03}^{2} \\ p{_{3}} =\\Phi _{13} f_{1} + \\Phi _{23} f_{2} +\\Phi _{33} f_{3} $"
   ]
  },
  {
   "attachments": {},
   "cell_type": "markdown",
   "id": "71ab9e43-d90b-477d-8343-51c080e5b8a5",
   "metadata": {},
   "source": [
    "### Die Lehrschen Dämpfungsmaße D\n",
    "$D_i = \\frac{ {K_m}_{i,i} }{2 \\cdot {\\omega_0}_i  }$"
   ]
  },
  {
   "cell_type": "code",
   "execution_count": 81,
   "id": "da68547d-5792-47a8-a7bb-911125f18e41",
   "metadata": {
    "tags": []
   },
   "outputs": [
    {
     "data": {
      "text/plain": [
       "array([0.01384023, 0.01767097, 0.03685469])"
      ]
     },
     "execution_count": 81,
     "metadata": {},
     "output_type": "execute_result"
    }
   ],
   "source": [
    "D = np.diag(Km) / (2*wn)\n",
    "D"
   ]
  },
  {
   "attachments": {},
   "cell_type": "markdown",
   "id": "2ffc59a6-6267-49e5-a14c-1a8b841c7514",
   "metadata": {},
   "source": [
    "### Eigenkreisfrequenzen (gedämpft) $\\omega$\n",
    "$\\omega = \\omega_0 \\cdot \\sqrt{ 1-D^2 }$\n"
   ]
  },
  {
   "cell_type": "code",
   "execution_count": 82,
   "id": "389b434c-0ab4-479a-a7c2-70f7a2e8d816",
   "metadata": {
    "tags": []
   },
   "outputs": [
    {
     "data": {
      "text/plain": [
       "array([37.6257095 , 27.62044594, 12.41093295])"
      ]
     },
     "execution_count": 82,
     "metadata": {},
     "output_type": "execute_result"
    }
   ],
   "source": [
    "wd = wn * np.sqrt(1-D*D)\n",
    "wd"
   ]
  },
  {
   "attachments": {},
   "cell_type": "markdown",
   "id": "4329b122-dca6-4f13-89f4-df5ef667d433",
   "metadata": {},
   "source": [
    "### Abklingkonstanten $\\delta$ \n",
    "$\\delta = D \\cdot \\omega_0$"
   ]
  },
  {
   "cell_type": "code",
   "execution_count": 83,
   "id": "296a9f5b-9f72-4b11-9c62-4afe24c7f3e5",
   "metadata": {
    "tags": []
   },
   "outputs": [
    {
     "data": {
      "text/plain": [
       "array([0.52074838, 0.48808014, 0.45740108])"
      ]
     },
     "execution_count": 83,
     "metadata": {},
     "output_type": "execute_result"
    }
   ],
   "source": [
    "delta = D * wd\n",
    "delta"
   ]
  },
  {
   "attachments": {},
   "cell_type": "markdown",
   "id": "c7ef75b6-db70-4e31-8fc1-2918ada824d9",
   "metadata": {},
   "source": [
    "### Darstellung der Eigenvektoren als Knotenbilder(mode shapes)"
   ]
  },
  {
   "cell_type": "code",
   "execution_count": 84,
   "id": "57daee2f-9ab6-4956-b3eb-73fc643f8333",
   "metadata": {
    "tags": []
   },
   "outputs": [],
   "source": [
    "x = np.arange(ordnung+1)\n",
    "x = np.array([0, 3, 6, 8])  # Orte der darzustellenden Eigenvektoren\n",
    "psi_1 = psi[:,0]\n",
    "psi_2 = psi[:,1]\n",
    "psi_3 = psi[:,2]\n",
    "nullvektor = np.zeros(1)\n",
    "y1 = np.insert(psi_1,0,0)\n",
    "y2 = np.insert(psi_2,0,0)\n",
    "y3 = np.insert(psi_3,0,0)\n",
    "\n",
    "# Plot Knotenbild (mode shape)\n",
    "fig, axs = plt.subplots(3, 1,figsize=(10,10))\n",
    "fig.suptitle('Knotenbilder der Eigenvektoren')\n",
    "\n",
    "axs[0].plot(x,y3, 'o-', color='cornflowerblue',label=\"psi 3 (Grundwelle)\")\n",
    "axs[0].legend(loc=2)\n",
    "axs[0].set_xlabel('Höhe in m')\n",
    "axs[0].set_ylabel('Eigenvektor')\n",
    "axs[0].plot(x, -y3,'o-', color='cornflowerblue')\n",
    "axs[0].stem(x,y3, linefmt='red', basefmt='lightgray')\n",
    "axs[0].stem(x,-y3, linefmt='red', basefmt='lightgray')\n",
    "\n",
    "axs[1].plot(x,y2, 'o-', color='cornflowerblue',label=\"psi 2 (1. Oberwelle)\")\n",
    "axs[1].legend(loc=2)\n",
    "axs[1].set_xlabel('Höhe in m')\n",
    "axs[1].set_ylabel('Eigenvektor')\n",
    "axs[1].plot(x,-y2,'o-', color='cornflowerblue')\n",
    "axs[1].stem(x,y2, linefmt='red', basefmt='lightgray')\n",
    "axs[1].stem(x,-y2, linefmt='red', basefmt='lightgray')\n",
    "\n",
    "axs[2].plot(x,y1, 'o-', color='cornflowerblue',label=\"psi 1 (2. Oberwelle)\")\n",
    "axs[2].legend(loc=2)\n",
    "axs[2].set_xlabel('Höhe in m')\n",
    "axs[2].set_ylabel('Eigenvektor')\n",
    "axs[2].plot(x,-y1,'o-', color='cornflowerblue')\n",
    "axs[2].stem(x,y1, linefmt='red', basefmt='lightgray')\n",
    "axs[2].stem(x,-y1, linefmt='red', basefmt='lightgray')\n",
    "\n",
    "plt.show()"
   ]
  },
  {
   "attachments": {},
   "cell_type": "markdown",
   "id": "32c7ab5c-91b2-438a-bda7-e92a78857285",
   "metadata": {},
   "source": [
    "### Lösung der entkoppelten Gleichungen im Zeitbereich "
   ]
  },
  {
   "cell_type": "code",
   "execution_count": 85,
   "id": "db3a954d-ac83-4023-85f5-2757bed49c2d",
   "metadata": {},
   "outputs": [],
   "source": [
    "# Lösung im Zeitbereich über modale Entkopplung\n",
    "\n",
    "# modale Transformation der Anfangsbedingungen\n",
    "p_0 = np.dot(np.linalg.inv(phi), q_0)  # Anfangsweg im Modalraum\n",
    "v_0p = np.dot(np.linalg.inv(phi), v_0)  # Anfangsgeschwindigkeit im Modalraum\n",
    "C_1 = p_0  # modale Integrationskonstante C1\n",
    "C_2 = (v_0p + delta * C_1) / wd  # modale Integrationskonstante C2\n",
    "\n",
    "t = np.arange(0, 5, 0.01)  # Zeitreife für Darstellung\n",
    "\n",
    "# Schwingwege im Modalraum\n",
    "p_1 = np.exp(-delta[0] * t) * (C_1[0] * np.cos(wn[0] * t) + C_2[0] * np.sin(wn[0] * t))\n",
    "p_2 = np.exp(-delta[1] * t) * (C_1[1] * np.cos(wn[1] * t) + C_2[1] * np.sin(wn[1] * t))\n",
    "p_3 = np.exp(-delta[2] * t) * (C_1[2] * np.cos(wn[2] * t) + C_2[2] * np.sin(wn[2] * t))\n",
    "\n",
    "# Rücktransformation durch Superposition in den realen physikalischen Raum\n",
    "q_1 = phi[0,0] * p_1 + phi[0,1] * p_2 + phi[0,2] * p_3\n",
    "q_2 = phi[1,0] * p_1 + phi[1,1] * p_2 + phi[1,2] * p_3\n",
    "q_3 = phi[2,0] * p_1 + phi[2,1] * p_2 + phi[2,2] * p_3\n",
    "\n",
    "# Lösungen im Zeitbereich grafisch darstellen\n",
    "fig, axs = plt.subplots(3, 1,figsize=(10,10))\n",
    "fig.suptitle('Schwingwege der Koordinaten q1 - q3')\n",
    "\n",
    "axs[0].plot(t, q_1, '-', color='cornflowerblue',label=\"q1\")\n",
    "axs[0].legend(loc='upper right')\n",
    "axs[0].set_xlabel('Zeit in Sekunden')\n",
    "axs[0].set_ylabel('Weg in m')\n",
    "\n",
    "axs[1].plot(t, q_2, '-', color='cornflowerblue',label=\"q2\")\n",
    "axs[1].legend(loc='upper right')\n",
    "axs[1].set_xlabel('Zeit in Sekunden')\n",
    "axs[1].set_ylabel('Weg in m')\n",
    "\n",
    "axs[2].plot(t, q_3, '-', color='cornflowerblue',label=\"q3\")\n",
    "axs[2].legend(loc='upper right')\n",
    "axs[2].set_xlabel('Zeit in Sekunden')\n",
    "axs[2].set_ylabel('Weg in m')\n",
    "\n",
    "# Zeige ein Gitternetz im Hintergrund an\n",
    "for ax in axs:\n",
    "    ax.grid(True, color='gray', linestyle='--', linewidth=0.5)\n",
    "\n",
    "# Markierung der Anfangswege\n",
    "axs[0].scatter(0,q_0[0], color='red', zorder=5)\n",
    "axs[1].scatter(0,q_0[1], color='red', zorder=5)\n",
    "axs[2].scatter(0,q_0[2], color='red', zorder=5)\n",
    "\n",
    "plt.show()"
   ]
  },
  {
   "attachments": {},
   "cell_type": "markdown",
   "id": "22f492c6-c867-4a43-9de2-15dc88060dca",
   "metadata": {},
   "source": [
    "### Frequenzgangmatrix berechnen und darstellen"
   ]
  },
  {
   "cell_type": "code",
   "execution_count": 86,
   "id": "3ce99b56-b7b4-40e3-9d8d-e3e9d0f54dcb",
   "metadata": {},
   "outputs": [],
   "source": [
    "# Frequenzgangmatrix\n",
    "\n",
    "# Residuum berechnen\n",
    "Residuum = np.zeros(ordnung, dtype=complex) # erzeuge komplexen Null-Vektor\n",
    "for i in range(ordnung):\n",
    "    Residuum[i] = -1j / (2 * wd[i] * M[i, i])\n",
    "\n",
    "# komplexe Eigenwerte berechnen\n",
    "eigenwert_k = -delta + 1j * wd\n",
    "\n",
    "# Erregerkreisfrequenz\n",
    "omega_e = np.arange(0, 60, 0.1)\n",
    "\n",
    "# Wahl des Frequenzgangmatrixelementes zur Berechnung und Darstellung\n",
    "out_frf = 0\n",
    "in_frf = 1\n",
    "\n",
    "frequenzgang = frf(ordnung, out_frf, in_frf, omega_e)\n",
    "amplitude = 20*np.log10(np.abs(frequenzgang))  # Amplitude in dB\n",
    "phase_radian = np.angle(frequenzgang)\n",
    "phase_degree = np.degrees(phase_radian)\n",
    "\n",
    "# Plot Amplitudenfrequenzgang\n",
    "fig, axs = plt.subplots(2, 1,figsize=(10,7))\n",
    "fig.suptitle('Amplitudenfrequenzgang')\n",
    "#axs[0].set_yscale(\"log\")\n",
    "axs[0].set_xlabel('Erregerkreisfrequenz in rad/s')\n",
    "axs[0].set_ylabel('Amplitude in dB')\n",
    "axs[0].plot(omega_e, amplitude, '-', color='cornflowerblue',\n",
    "            label='FRF '+ str(out_frf) + str(in_frf))\n",
    "axs[0].set_ylim(-250)\n",
    "axs[0].legend(loc='upper right')\n",
    "\n",
    "#axs[1].set_ylim(-180)\n",
    "axs[1].set_xlabel('Erregerkreisfrequenz in rad/s')\n",
    "axs[1].set_ylabel('Phase in Grad')\n",
    "axs[1].plot(omega_e, phase_degree, '-', color='cornflowerblue')\n",
    "\n",
    "multi = MultiCursor(fig.canvas, (axs[0], axs[1]), color='g', lw=2,\n",
    "                    horizOn=True, vertOn=True)\n",
    "# Zeige ein Gitternetz im Hintergrund an\n",
    "for ax in axs:\n",
    "    ax.grid(True, color='gray', linestyle='--', linewidth=0.5)\n",
    "\n",
    "plt.show()"
   ]
  }
 ],
 "metadata": {
  "kernelspec": {
   "display_name": "Python 3 (Spyder)",
   "language": "python3",
   "name": "python3"
  },
  "language_info": {
   "codemirror_mode": {
    "name": "ipython",
    "version": 3
   },
   "file_extension": ".py",
   "mimetype": "text/x-python",
   "name": "python",
   "nbconvert_exporter": "python",
   "pygments_lexer": "ipython3",
   "version": "3.11.4"
  }
 },
 "nbformat": 4,
 "nbformat_minor": 5
}
