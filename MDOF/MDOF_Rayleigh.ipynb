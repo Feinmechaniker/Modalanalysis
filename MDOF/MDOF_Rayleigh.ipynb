{
 "cells": [
  {
   "cell_type": "markdown",
   "id": "e3be61eb-0247-4cff-83b1-ccd8b2842933",
   "metadata": {},
   "source": [
    "# Experimentelle Modalanalyse (EMA) | Prof. J. Grabow\n",
    "## MDOF (Systeme mit einem Freiheitsgrad f>1) und Rayleigh-Dämpfung\n",
    "### modale Entkopplung"
   ]
  },
  {
   "cell_type": "code",
   "execution_count": 1,
   "id": "650090df-531b-4df8-8373-c102e3f9f79b",
   "metadata": {},
   "outputs": [],
   "source": [
    "# -*- coding: utf-8 -*-\n",
    "\"\"\"\n",
    "Created on Fri Sep  1 19:13:41 2023\n",
    "\n",
    "Program history\n",
    "01.09.2023    V. 1.0    Start\n",
    "09.10.2023    V. 1.1    Anfangsbedingungen\n",
    "10.10.2023    V  1.2    Lösung des entkoppelten Systems im Zeitbereich\n",
    "16.11.2023    V  1.3    Frequenzgang\n",
    "\n",
    "@author: Prof. Jörg Grabow (grabow@amesys.de)\n",
    "\"\"\"\n",
    "__version__ = '1.3'\n",
    "__author__ = 'Joe Grabow'\n",
    "\n",
    "import numpy as np\n",
    "import matplotlib.pyplot as plt\n",
    "from matplotlib.widgets import MultiCursor"
   ]
  },
  {
   "cell_type": "markdown",
   "id": "fc088920-3858-4dde-a556-14b4fcfba2c2",
   "metadata": {},
   "source": [
    "### Hilfsfunktion normiere_matrix(matrix)\n",
    "Normiert in einer Matrix in jedem Spaltenvektor den betragsmäßig größten Wert auf eins (Darstellungsnorm)."
   ]
  },
  {
   "cell_type": "code",
   "execution_count": 2,
   "id": "47f7edf6-569f-4ef2-9867-604786bd79e9",
   "metadata": {},
   "outputs": [],
   "source": [
    "def normiere_matrix(matrix):\n",
    "    \"\"\"normiert in einer Matrix in jedem Spaltenvektor den betragsmäßig größten\n",
    "    Wert auf eins\"\"\"\n",
    "    max_abs_werte = np.max(np.abs(matrix), axis=0)\n",
    "    normierte_matrix = matrix / max_abs_werte\n",
    "    return normierte_matrix"
   ]
  },
  {
   "cell_type": "markdown",
   "id": "94a71415-0c0b-4ce9-8e76-0deccadbfad1",
   "metadata": {},
   "source": [
    "### Hilfsfunktion zur Berechnung des komplexen Frequenzganges"
   ]
  },
  {
   "cell_type": "code",
   "execution_count": 3,
   "id": "8b3bfecf-f54e-49f6-8a93-446f1ae42da3",
   "metadata": {},
   "outputs": [],
   "source": [
    "def frf(ordnung,i,k,omega_e):\n",
    "    # Estimate the frequency-response functions of the model.\n",
    "    # erzeuge komplexen Null-Vektor in Länge des Vektors der Erregerfrequenz\n",
    "    f_vektor = np.zeros(len(omega_e), dtype=complex)\n",
    "    for n in range(ordnung):\n",
    "        S_1 = (Residuum[n] * phi[i,n] * phi[k,n]) / \\\n",
    "            ((0+1j) * omega_e - eigenwert_k[n])\n",
    "        S_2 = (np.conj(Residuum[n]) * phi[i,n] * phi[k,n]) / \\\n",
    "            ((0+1j) * omega_e - np.conj(eigenwert_k[n] ))\n",
    "        f_vektor = f_vektor + S_1 + S_2\n",
    "    return f_vektor"
   ]
  },
  {
   "cell_type": "markdown",
   "id": "4dc282b6-5d63-43cd-868b-570dbc8c1ee0",
   "metadata": {},
   "source": [
    "## Definition der Systemparameter\n",
    "Alle Systemparameter wie Massen, Steifigkeiten oder Dämpfungen werden in SI-Einheiten angegeben."
   ]
  },
  {
   "cell_type": "code",
   "execution_count": 4,
   "id": "524fae9d-8781-49ef-bba5-131f938ced65",
   "metadata": {},
   "outputs": [],
   "source": [
    "# Eingabe der Systemmatrizen M,C,K\n",
    "m1, m2, m3 = (60e3, 60e3, 15e3)\n",
    "c1, c2, c3 = (30e6, 30e6, 10e6)\n",
    "k1, k2, k3 = (100, 250, 80)\n",
    "alpha, beta = 0.9, 1e-4"
   ]
  },
  {
   "cell_type": "markdown",
   "id": "38e8a5f8-ceec-416a-948c-c9b8dc4173e0",
   "metadata": {},
   "source": [
    "## Definition der Systemmatrizen\n",
    "Eingabe der Massenmatrix, Steifigkeitsmatrix und Dämpfungsmatrix\n",
    "\n",
    "### Eingabe der Matrizen und Anfangsbedingungen\n",
    "---\n",
    "- *M - Massenmatrix als Array*\n",
    "- *C - Steifigkeitsmatrix als Array*\n",
    "- *K - Dämfungsmatrix als Array*\n",
    "---\n",
    "Bei proportionaler Dämpfung (Rayleigh-Dämpfung): $K = \\alpha M + \\beta C$."
   ]
  },
  {
   "cell_type": "code",
   "execution_count": 5,
   "id": "ea5897f8-0a9d-4528-bf3d-8a932a814865",
   "metadata": {},
   "outputs": [],
   "source": [
    "M = np.array([[m1, 0, 0],\n",
    "              [0, m2, 0],\n",
    "              [0, 0, m3]])\n",
    "C = np.array([[c1+c2, -c2,   0],\n",
    "              [-c2, c2+c3, -c3],\n",
    "              [0, -c3,  c3]])\n",
    "K = np.array([[k1+k2, -k2,   0],\n",
    "              [-k2, k2+k3, -k3],\n",
    "              [0, -k3,  k3]])\n",
    "# nur bei Rayleigh-Dämpfung\n",
    "K = alpha*M + beta*C"
   ]
  },
  {
   "cell_type": "markdown",
   "id": "27691150-7a2e-444d-a32b-35b464e8933b",
   "metadata": {},
   "source": [
    " Anfangsbedingungen $q_{o}$ und $v_{0}$"
   ]
  },
  {
   "cell_type": "code",
   "execution_count": 6,
   "id": "95c6f185-448a-4cea-a389-90d2c917bdc6",
   "metadata": {},
   "outputs": [],
   "source": [
    "# Anfangsbedingungen\n",
    "q_0 = np.array([1e-3, -2e-3, 0.5e-3])  # Anfangsweg in mm\n",
    "v_0 = np.array([0.5e-3, 1e-3, -0.5e-3])  # Anfangsgeschwindigkeit in mm/s"
   ]
  },
  {
   "cell_type": "markdown",
   "id": "5f6c2c27-2ba0-4d3f-ac1b-3975fd8dfed8",
   "metadata": {},
   "source": [
    "## Berechnungen\n",
    "### Die Systemmatrix A: \n",
    "\n",
    "$A = M^{-1} \\cdot C$"
   ]
  },
  {
   "cell_type": "code",
   "execution_count": 7,
   "id": "e1b93bb8-3adb-4a0f-bee1-13e8f83baf41",
   "metadata": {},
   "outputs": [],
   "source": [
    "A = np.matmul(np.linalg.inv(M),C)"
   ]
  },
  {
   "cell_type": "markdown",
   "id": "b2d9bafd-46b3-4f65-943e-1bc1023d5cd3",
   "metadata": {},
   "source": [
    "### Das spezielle Eigenwertproblem\n",
    "$\\left( A - \\lambda \\cdot E \\right) \\cdot \\psi = 0$ \n",
    "\n",
    "$det \\left( A - \\lambda E \\right) = 0$"
   ]
  },
  {
   "cell_type": "code",
   "execution_count": 8,
   "id": "4e91e8e1-3367-48ed-9a86-99c6b6b23205",
   "metadata": {},
   "outputs": [],
   "source": [
    "eigenwerte, eigenvektoren = np.linalg.eig(A)\n",
    "\n",
    "# Sortiere die Eigenwerte und -vektoren nach den Eigenwerten\n",
    "sort_indices = np.argsort(eigenwerte)[::-1]\n",
    "sortierte_eigenwerte = eigenwerte[sort_indices]\n",
    "sortierte_eigenvektoren = eigenvektoren[:, sort_indices]"
   ]
  },
  {
   "cell_type": "markdown",
   "id": "05ecab0b-3f6c-4355-a89a-edaf21ccae4c",
   "metadata": {},
   "source": [
    "Eigenkreisfrequenzen (ungedämpft) sortiert nöch Größe:\n",
    "\n",
    "$\\omega _0 = \\sqrt{ \\lambda }$"
   ]
  },
  {
   "cell_type": "code",
   "execution_count": 9,
   "id": "b0952bec-0249-474b-b6d7-2cb309c4a015",
   "metadata": {},
   "outputs": [
    {
     "data": {
      "text/plain": [
       "array([37.62931365, 27.62475937, 12.41937023])"
      ]
     },
     "execution_count": 9,
     "metadata": {},
     "output_type": "execute_result"
    }
   ],
   "source": [
    "wn = np.sqrt(sortierte_eigenwerte)\n",
    "wn"
   ]
  },
  {
   "cell_type": "markdown",
   "id": "a6f0d37a-1c81-4ea1-a30e-357c9c54b194",
   "metadata": {},
   "source": [
    "zugehörige Eigenvektoren $\\psi$ und die Eigenvektormatrix $\\Psi$"
   ]
  },
  {
   "cell_type": "code",
   "execution_count": 10,
   "id": "c3f9ef82-0080-40a5-91a4-f93e98e5d549",
   "metadata": {
    "tags": []
   },
   "outputs": [
    {
     "data": {
      "text/plain": [
       "array([[ 0.66815554, -0.28934219, -0.3389505 ],\n",
       "       [-0.55585897, -0.13707452, -0.57334103],\n",
       "       [ 0.49455938,  0.94736037, -0.7459173 ]])"
      ]
     },
     "execution_count": 10,
     "metadata": {},
     "output_type": "execute_result"
    }
   ],
   "source": [
    "sortierte_eigenvektoren"
   ]
  },
  {
   "cell_type": "code",
   "execution_count": 11,
   "id": "5d802b56-e719-4579-bea3-7e3f1f3021d7",
   "metadata": {
    "tags": []
   },
   "outputs": [],
   "source": [
    "ordnung = len(wn)"
   ]
  },
  {
   "cell_type": "markdown",
   "id": "066b761f-813e-4261-8ae3-be27fc4321e0",
   "metadata": {},
   "source": [
    "### Normierung der Eigenvektoren\n",
    "In jedem Eigenvektor wird der betragsmäßig größte Wert immer auf eins normiert.\n",
    "\n",
    "normierte Eigenvektoren $\\psi_{N}$"
   ]
  },
  {
   "cell_type": "code",
   "execution_count": 12,
   "id": "80e93b26-3d19-4e66-8b48-4d0b4c92e167",
   "metadata": {},
   "outputs": [
    {
     "data": {
      "text/plain": [
       "array([[ 1.        , -0.30541935, -0.45440761],\n",
       "       [-0.83193049, -0.144691  , -0.76863886],\n",
       "       [ 0.74018601,  1.        , -1.        ]])"
      ]
     },
     "execution_count": 12,
     "metadata": {},
     "output_type": "execute_result"
    }
   ],
   "source": [
    "psi = normiere_matrix(sortierte_eigenvektoren)\n",
    "psi"
   ]
  },
  {
   "cell_type": "markdown",
   "id": "7a6e0ecc-a7f8-43ae-ab40-159ce3f54c95",
   "metadata": {},
   "source": [
    "### Die generalisierte Massenmatrix $M_G$\n",
    "generalisierte Massenmatrix:\n",
    "\n",
    "$M_G = \\Psi ^T M \\Psi$"
   ]
  },
  {
   "cell_type": "code",
   "execution_count": 13,
   "id": "6f9f4533-f24b-451b-8f56-4e1f8d7f9ec6",
   "metadata": {},
   "outputs": [
    {
     "data": {
      "text/plain": [
       "array([[109744.63,     -0.  ,     -0.  ],\n",
       "       [    -0.  ,  21852.99,     -0.  ],\n",
       "       [    -0.  ,     -0.  ,  62837.52]])"
      ]
     },
     "execution_count": 13,
     "metadata": {},
     "output_type": "execute_result"
    }
   ],
   "source": [
    "psiT = np.transpose(psi)\n",
    "MG = np.dot(np.dot(psiT,M),psi)\n",
    "np.around(MG,2)"
   ]
  },
  {
   "cell_type": "markdown",
   "id": "0f24c7a9-e152-488e-9f20-d17e0ba37aa4",
   "metadata": {},
   "source": [
    "### Die Modalmatrix $\\phi$\n",
    "Normierung der Eigenvektoren $\\psi \\text{  auf  } \\phi$\n",
    "\n",
    "$\\phi ^{(i)} = \\frac{\\psi ^{(i)}} { \\sqrt{{M_G}_{i,i} } }$"
   ]
  },
  {
   "cell_type": "code",
   "execution_count": 14,
   "id": "8faf889e-5ff2-4dda-88f7-dba9ea6ea865",
   "metadata": {
    "tags": []
   },
   "outputs": [],
   "source": [
    "phi = psi/(np.sqrt(np.diag(MG)))"
   ]
  },
  {
   "cell_type": "markdown",
   "id": "8c471f54-4e5a-4fdf-853f-16434048de82",
   "metadata": {},
   "source": [
    "Modalmatrix $\\Phi$"
   ]
  },
  {
   "cell_type": "code",
   "execution_count": 15,
   "id": "40e0ce59-e619-422d-8767-3ec49b9eae8e",
   "metadata": {},
   "outputs": [
    {
     "data": {
      "text/plain": [
       "array([[ 0.00301862, -0.00206605, -0.00181274],\n",
       "       [-0.00251128, -0.00097878, -0.00306629],\n",
       "       [ 0.00223434,  0.00676464, -0.00398924]])"
      ]
     },
     "execution_count": 15,
     "metadata": {},
     "output_type": "execute_result"
    }
   ],
   "source": [
    "phi"
   ]
  },
  {
   "cell_type": "markdown",
   "id": "c9db4984-afc5-4e73-aa22-4fd3620f9ce8",
   "metadata": {},
   "source": [
    "Proberechnung\n",
    "\n",
    "$\\Phi^{T} \\cdot M \\cdot \\Phi = E$"
   ]
  },
  {
   "cell_type": "code",
   "execution_count": 16,
   "id": "1ff680ac-f7e8-4363-83f4-7dfb2ee612ca",
   "metadata": {
    "tags": []
   },
   "outputs": [
    {
     "data": {
      "text/plain": [
       "array([[ 1., -0., -0.],\n",
       "       [-0.,  1., -0.],\n",
       "       [-0., -0.,  1.]])"
      ]
     },
     "execution_count": 16,
     "metadata": {},
     "output_type": "execute_result"
    }
   ],
   "source": [
    "E = np.dot(np.dot(np.transpose(phi),M),phi)\n",
    "np.around(E,2)"
   ]
  },
  {
   "cell_type": "markdown",
   "id": "98db22e8-e559-436b-b165-19ffe4fa4ff7",
   "metadata": {},
   "source": [
    "### Die modale Dämpfungsmatrix $K_m$\n",
    "$K_m =\\Phi^T \\cdot K \\cdot \\Phi$\n"
   ]
  },
  {
   "cell_type": "code",
   "execution_count": 17,
   "id": "92234645-7604-4390-bf8b-8cdfa94b21c6",
   "metadata": {
    "tags": []
   },
   "outputs": [
    {
     "data": {
      "text/plain": [
       "array([[ 1.0416, -0.    , -0.    ],\n",
       "       [-0.    ,  0.9763, -0.    ],\n",
       "       [-0.    , -0.    ,  0.9154]])"
      ]
     },
     "execution_count": 17,
     "metadata": {},
     "output_type": "execute_result"
    }
   ],
   "source": [
    "Km = np.dot(np.dot(np.transpose(phi),K),phi)\n",
    "np.around(Km,4)"
   ]
  },
  {
   "cell_type": "markdown",
   "id": "71ab9e43-d90b-477d-8343-51c080e5b8a5",
   "metadata": {},
   "source": [
    "### Die Lehrschen Dämpfungsmaße D\n",
    "$D_i = \\frac{ {K_m}_{i,i} }{2 \\cdot {\\omega_0}_i  }$"
   ]
  },
  {
   "cell_type": "code",
   "execution_count": 18,
   "id": "da68547d-5792-47a8-a7bb-911125f18e41",
   "metadata": {
    "tags": []
   },
   "outputs": [
    {
     "data": {
      "text/plain": [
       "array([0.01384023, 0.01767097, 0.03685469])"
      ]
     },
     "execution_count": 18,
     "metadata": {},
     "output_type": "execute_result"
    }
   ],
   "source": [
    "D = np.diag(Km) / (2*wn)\n",
    "D"
   ]
  },
  {
   "cell_type": "markdown",
   "id": "2ffc59a6-6267-49e5-a14c-1a8b841c7514",
   "metadata": {},
   "source": [
    "### Eigenkreisfrequenzen (gedämpft) $\\omega$\n",
    "$\\omega = \\omega_0 \\cdot \\sqrt{ 1-D^2 }$\n"
   ]
  },
  {
   "cell_type": "code",
   "execution_count": 19,
   "id": "389b434c-0ab4-479a-a7c2-70f7a2e8d816",
   "metadata": {
    "tags": []
   },
   "outputs": [
    {
     "data": {
      "text/plain": [
       "array([37.6257095 , 27.62044594, 12.41093295])"
      ]
     },
     "execution_count": 19,
     "metadata": {},
     "output_type": "execute_result"
    }
   ],
   "source": [
    "wd = wn * np.sqrt(1-D*D)\n",
    "wd"
   ]
  },
  {
   "cell_type": "markdown",
   "id": "4329b122-dca6-4f13-89f4-df5ef667d433",
   "metadata": {},
   "source": [
    "### Abklingkonstanten $\\delta$ \n",
    "$\\delta = D \\cdot \\omega_0$"
   ]
  },
  {
   "cell_type": "code",
   "execution_count": 20,
   "id": "296a9f5b-9f72-4b11-9c62-4afe24c7f3e5",
   "metadata": {
    "tags": []
   },
   "outputs": [
    {
     "data": {
      "text/plain": [
       "array([0.52074838, 0.48808014, 0.45740108])"
      ]
     },
     "execution_count": 20,
     "metadata": {},
     "output_type": "execute_result"
    }
   ],
   "source": [
    "delta = D * wd\n",
    "delta"
   ]
  },
  {
   "cell_type": "markdown",
   "id": "c7ef75b6-db70-4e31-8fc1-2918ada824d9",
   "metadata": {},
   "source": [
    "### Darstellung der Eigenvektoren als Knotenbilder(mode shapes)"
   ]
  },
  {
   "cell_type": "code",
   "execution_count": 21,
   "id": "57daee2f-9ab6-4956-b3eb-73fc643f8333",
   "metadata": {
    "tags": []
   },
   "outputs": [],
   "source": [
    "x = np.arange(ordnung+1)\n",
    "x = np.array([0, 3, 6, 8])  # Orte der darzustellenden Eigenvektoren\n",
    "psi_1 = psi[:,0]\n",
    "psi_2 = psi[:,1]\n",
    "psi_3 = psi[:,2]\n",
    "nullvektor = np.zeros(1)\n",
    "y1 = np.insert(psi_1,0,0)\n",
    "y2 = np.insert(psi_2,0,0)\n",
    "y3 = np.insert(psi_3,0,0)\n",
    "\n",
    "# Plot Knotenbild (mode shape)\n",
    "fig, axs = plt.subplots(3, 1,figsize=(10,10))\n",
    "fig.suptitle('Knotenbilder der Eigenvektoren')\n",
    "\n",
    "axs[0].plot(x,y3, 'o-', color='cornflowerblue',label=\"psi 3 (Grundwelle)\")\n",
    "axs[0].legend(loc=2)\n",
    "axs[0].set_xlabel('Höhe in m')\n",
    "axs[0].set_ylabel('Eigenvektor')\n",
    "axs[0].plot(x, -y3,'o-', color='cornflowerblue')\n",
    "axs[0].stem(x,y3, linefmt='red', basefmt='lightgray')\n",
    "axs[0].stem(x,-y3, linefmt='red', basefmt='lightgray')\n",
    "\n",
    "axs[1].plot(x,y2, 'o-', color='cornflowerblue',label=\"psi 2 (1. Oberwelle)\")\n",
    "axs[1].legend(loc=2)\n",
    "axs[1].set_xlabel('Höhe in m')\n",
    "axs[1].set_ylabel('Eigenvektor')\n",
    "axs[1].plot(x,-y2,'o-', color='cornflowerblue')\n",
    "axs[1].stem(x,y2, linefmt='red', basefmt='lightgray')\n",
    "axs[1].stem(x,-y2, linefmt='red', basefmt='lightgray')\n",
    "\n",
    "axs[2].plot(x,y1, 'o-', color='cornflowerblue',label=\"psi 1 (2. Oberwelle)\")\n",
    "axs[2].legend(loc=2)\n",
    "axs[2].set_xlabel('Höhe in m')\n",
    "axs[2].set_ylabel('Eigenvektor')\n",
    "axs[2].plot(x,-y1,'o-', color='cornflowerblue')\n",
    "axs[2].stem(x,y1, linefmt='red', basefmt='lightgray')\n",
    "axs[2].stem(x,-y1, linefmt='red', basefmt='lightgray')\n",
    "\n",
    "plt.show()"
   ]
  },
  {
   "cell_type": "markdown",
   "id": "32c7ab5c-91b2-438a-bda7-e92a78857285",
   "metadata": {},
   "source": [
    "### Lösung der entkoppelten Gleichungen im Zeitbereich "
   ]
  },
  {
   "cell_type": "code",
   "execution_count": 22,
   "id": "db3a954d-ac83-4023-85f5-2757bed49c2d",
   "metadata": {},
   "outputs": [],
   "source": [
    "# Lösung im Zeitbereich über modale Entkopplung\n",
    "\n",
    "# modale Transformation der Anfangsbedingungen\n",
    "p_0 = np.dot(np.linalg.inv(phi), q_0)  # Anfangsweg im Modalraum\n",
    "v_0p = np.dot(np.linalg.inv(phi), v_0)  # Anfangsgeschwindigkeit im Modalraum\n",
    "C_1 = p_0  # modale Integrationskonstante C1\n",
    "C_2 = (v_0p + delta * C_1) / wd  # modale Integrationskonstante C2\n",
    "\n",
    "t = np.arange(0, 5, 0.01)  # Zeitreife für Darstellung\n",
    "\n",
    "# Schwingwege im Modalraum\n",
    "p_1 = np.exp(-delta[0] * t) * (C_1[0] * np.cos(wn[0] * t) + C_2[0] * np.sin(wn[0] * t))\n",
    "p_2 = np.exp(-delta[1] * t) * (C_1[1] * np.cos(wn[1] * t) + C_2[1] * np.sin(wn[1] * t))\n",
    "p_3 = np.exp(-delta[2] * t) * (C_1[2] * np.cos(wn[2] * t) + C_2[2] * np.sin(wn[2] * t))\n",
    "\n",
    "# Rücktransformation durch Superposition in den realen physikalischen Raum\n",
    "q_1 = phi[0,0] * p_1 + phi[0,1] * p_2 + phi[0,2] * p_3\n",
    "q_2 = phi[1,0] * p_1 + phi[1,1] * p_2 + phi[1,2] * p_3\n",
    "q_3 = phi[2,0] * p_1 + phi[2,1] * p_2 + phi[2,2] * p_3\n",
    "\n",
    "# Lösungen im Zeitbereich grafisch darstellen\n",
    "fig, axs = plt.subplots(3, 1,figsize=(10,10))\n",
    "fig.suptitle('Schwingwege der Koordinaten q1 - q3')\n",
    "\n",
    "axs[0].plot(t, q_1, '-', color='cornflowerblue',label=\"q1\")\n",
    "axs[0].legend(loc='upper right')\n",
    "axs[0].set_xlabel('Zeit in Sekunden')\n",
    "axs[0].set_ylabel('Weg in m')\n",
    "\n",
    "axs[1].plot(t, q_2, '-', color='cornflowerblue',label=\"q2\")\n",
    "axs[1].legend(loc='upper right')\n",
    "axs[1].set_xlabel('Zeit in Sekunden')\n",
    "axs[1].set_ylabel('Weg in m')\n",
    "\n",
    "axs[2].plot(t, q_3, '-', color='cornflowerblue',label=\"q3\")\n",
    "axs[2].legend(loc='upper right')\n",
    "axs[2].set_xlabel('Zeit in Sekunden')\n",
    "axs[2].set_ylabel('Weg in m')\n",
    "\n",
    "# Zeige ein Gitternetz im Hintergrund an\n",
    "for ax in axs:\n",
    "    ax.grid(True, color='gray', linestyle='--', linewidth=0.5)\n",
    "\n",
    "# Markierung der Anfangswege\n",
    "axs[0].scatter(0,q_0[0], color='red', zorder=5)\n",
    "axs[1].scatter(0,q_0[1], color='red', zorder=5)\n",
    "axs[2].scatter(0,q_0[2], color='red', zorder=5)\n",
    "\n",
    "plt.show()"
   ]
  },
  {
   "cell_type": "markdown",
   "id": "22f492c6-c867-4a43-9de2-15dc88060dca",
   "metadata": {},
   "source": [
    "### Frequenzgangmatrix berechnen und darstellen"
   ]
  },
  {
   "cell_type": "code",
   "execution_count": 23,
   "id": "3ce99b56-b7b4-40e3-9d8d-e3e9d0f54dcb",
   "metadata": {},
   "outputs": [],
   "source": [
    "# Frequenzgangmatrix\n",
    "\n",
    "# Residuum berechnen\n",
    "Residuum = np.zeros(ordnung, dtype=complex) # erzeuge komplexen Null-Vektor\n",
    "for i in range(ordnung):\n",
    "    Residuum[i] = -1j / (2 * wd[i] * M[i, i])\n",
    "\n",
    "# komplexe Eigenwerte berechnen\n",
    "eigenwert_k = -delta + 1j * wd\n",
    "\n",
    "# Erregerkreisfrequenz\n",
    "omega_e = np.arange(0, 60, 0.1)\n",
    "\n",
    "# Wahl des Frequenzgangmatrixelementes zur Berechnung und Darstellung\n",
    "out_frf = 0\n",
    "in_frf = 1\n",
    "\n",
    "frequenzgang = frf(ordnung, out_frf, in_frf, omega_e)\n",
    "amplitude = 20*np.log10(np.abs(frequenzgang))  # Amplitude in dB\n",
    "phase_radian = np.angle(frequenzgang)\n",
    "phase_degree = np.degrees(phase_radian)\n",
    "\n",
    "# Plot Amplitudenfrequenzgang\n",
    "fig, axs = plt.subplots(2, 1,figsize=(10,7))\n",
    "fig.suptitle('Amplitudenfrequenzgang')\n",
    "#axs[0].set_yscale(\"log\")\n",
    "axs[0].set_xlabel('Erregerkreisfrequenz in rad/s')\n",
    "axs[0].set_ylabel('Amplitude in dB')\n",
    "axs[0].plot(omega_e, amplitude, '-', color='cornflowerblue',\n",
    "            label='FRF '+ str(out_frf) + str(in_frf))\n",
    "axs[0].set_ylim(-250)\n",
    "axs[0].legend(loc='upper right')\n",
    "\n",
    "#axs[1].set_ylim(-180)\n",
    "axs[1].set_xlabel('Erregerkreisfrequenz in rad/s')\n",
    "axs[1].set_ylabel('Phase in Grad')\n",
    "axs[1].plot(omega_e, phase_degree, '-', color='cornflowerblue')\n",
    "\n",
    "multi = MultiCursor(fig.canvas, (axs[0], axs[1]), color='g', lw=2,\n",
    "                    horizOn=True, vertOn=True)\n",
    "# Zeige ein Gitternetz im Hintergrund an\n",
    "for ax in axs:\n",
    "    ax.grid(True, color='gray', linestyle='--', linewidth=0.5)\n",
    "\n",
    "plt.show()"
   ]
  }
 ],
 "metadata": {
  "kernelspec": {
   "display_name": "Python 3 (Spyder)",
   "language": "python3",
   "name": "python3"
  },
  "language_info": {
   "codemirror_mode": {
    "name": "ipython",
    "version": 3
   },
   "file_extension": ".py",
   "mimetype": "text/x-python",
   "name": "python",
   "nbconvert_exporter": "python",
   "pygments_lexer": "ipython3",
   "version": "3.11.4"
  }
 },
 "nbformat": 4,
 "nbformat_minor": 5
}
